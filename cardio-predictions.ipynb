{
 "cells": [
  {
   "cell_type": "code",
   "execution_count": 1,
   "id": "2daccbbb",
   "metadata": {},
   "outputs": [],
   "source": [
    "import numpy as np\n",
    "import pandas as pd\n",
    "\n",
    "from matplotlib import pyplot as plt"
   ]
  },
  {
   "cell_type": "code",
   "execution_count": 2,
   "id": "a33d399f",
   "metadata": {},
   "outputs": [],
   "source": [
    "df = pd.read_csv('cardio_dataset.csv')"
   ]
  },
  {
   "cell_type": "code",
   "execution_count": 3,
   "id": "b1a6cb83",
   "metadata": {},
   "outputs": [
    {
     "name": "stdout",
     "output_type": "stream",
     "text": [
      "      SEX  AGEIR   TC  HDL  SMOKE_  BPMED  DIAB_01  RISK\n",
      "0       2     48  236   66       0      2        0   1.1\n",
      "1       1     48  260   51       0      2        1   7.0\n",
      "2       1     44  187   49       1      2        0   7.0\n",
      "3       2     42  216   57       1      2        0   0.4\n",
      "4       2     56  156   42       0      2        0   2.2\n",
      "...   ...    ...  ...  ...     ...    ...      ...   ...\n",
      "6639    2     65  307   42       1      1        1  36.6\n",
      "6640    2     42  169   56       0      1        0   0.8\n",
      "6641    1     65  212   35       1      1        0  30.6\n",
      "6642    1     66  184   39       0      1        0  23.8\n",
      "6643    2     45  203   51       0      2        0   1.0\n",
      "\n",
      "[6644 rows x 8 columns]\n"
     ]
    }
   ],
   "source": [
    "print(df)"
   ]
  },
  {
   "cell_type": "code",
   "execution_count": 5,
   "id": "5fd1d9a1",
   "metadata": {},
   "outputs": [
    {
     "name": "stdout",
     "output_type": "stream",
     "text": [
      "[[  2.   48.  236.  ...   2.    0.    1.1]\n",
      " [  1.   48.  260.  ...   2.    1.    7. ]\n",
      " [  1.   44.  187.  ...   2.    0.    7. ]\n",
      " ...\n",
      " [  1.   65.  212.  ...   1.    0.   30.6]\n",
      " [  1.   66.  184.  ...   1.    0.   23.8]\n",
      " [  2.   45.  203.  ...   2.    0.    1. ]]\n"
     ]
    }
   ],
   "source": [
    "dataset = df.values\n",
    "print(dataset)"
   ]
  },
  {
   "cell_type": "code",
   "execution_count": 6,
   "id": "29f69903",
   "metadata": {},
   "outputs": [],
   "source": [
    "data = dataset[:,0:7]\n",
    "target = dataset[:,7]"
   ]
  },
  {
   "cell_type": "code",
   "execution_count": 7,
   "id": "aba7dca2",
   "metadata": {},
   "outputs": [
    {
     "name": "stdout",
     "output_type": "stream",
     "text": [
      "[[  2.  48. 236. ...   0.   2.   0.]\n",
      " [  1.  48. 260. ...   0.   2.   1.]\n",
      " [  1.  44. 187. ...   1.   2.   0.]\n",
      " ...\n",
      " [  1.  65. 212. ...   1.   1.   0.]\n",
      " [  1.  66. 184. ...   0.   1.   0.]\n",
      " [  2.  45. 203. ...   0.   2.   0.]]\n"
     ]
    }
   ],
   "source": [
    "print(data)"
   ]
  },
  {
   "cell_type": "code",
   "execution_count": 8,
   "id": "2a8aacd5",
   "metadata": {},
   "outputs": [
    {
     "name": "stdout",
     "output_type": "stream",
     "text": [
      "[ 1.1  7.   7.  ... 30.6 23.8  1. ]\n"
     ]
    }
   ],
   "source": [
    "print(target)"
   ]
  },
  {
   "cell_type": "code",
   "execution_count": 9,
   "id": "9e18d6d8",
   "metadata": {},
   "outputs": [],
   "source": [
    "from sklearn.preprocessing import MinMaxScaler\n",
    "\n",
    "target = np.reshape(target, (-1,1)) # convet 2d array"
   ]
  },
  {
   "cell_type": "code",
   "execution_count": 10,
   "id": "55829334",
   "metadata": {},
   "outputs": [
    {
     "name": "stdout",
     "output_type": "stream",
     "text": [
      "[[ 1.1]\n",
      " [ 7. ]\n",
      " [ 7. ]\n",
      " ...\n",
      " [30.6]\n",
      " [23.8]\n",
      " [ 1. ]]\n"
     ]
    }
   ],
   "source": [
    "print(target)"
   ]
  },
  {
   "cell_type": "code",
   "execution_count": 14,
   "id": "64b6783a",
   "metadata": {},
   "outputs": [],
   "source": [
    "scaler_data = MinMaxScaler()\n",
    "scaler_target = MinMaxScaler()\n",
    "\n",
    "scaler_data.fit(data)\n",
    "scaler_target.fit(target)\n",
    "\n",
    "# data_scaled = scaler_data.fit_transform(data)\n",
    "\n",
    "data_scaled = scaler_data.transform(data)\n",
    "target_scaled = scaler_target.transform(target)"
   ]
  },
  {
   "cell_type": "code",
   "execution_count": 15,
   "id": "516f163f",
   "metadata": {},
   "outputs": [
    {
     "name": "stdout",
     "output_type": "stream",
     "text": [
      "[[1.         0.20512821 0.40045249 ... 0.         1.         0.        ]\n",
      " [0.         0.20512821 0.45475113 ... 0.         1.         1.        ]\n",
      " [0.         0.1025641  0.28959276 ... 1.         1.         0.        ]\n",
      " ...\n",
      " [0.         0.64102564 0.34615385 ... 1.         0.         0.        ]\n",
      " [0.         0.66666667 0.28280543 ... 0.         0.         0.        ]\n",
      " [1.         0.12820513 0.32579186 ... 0.         1.         0.        ]]\n"
     ]
    }
   ],
   "source": [
    "print(data_scaled)"
   ]
  },
  {
   "cell_type": "code",
   "execution_count": 16,
   "id": "0544c42a",
   "metadata": {},
   "outputs": [
    {
     "data": {
      "image/png": "[encoded data removed]",
      "text/plain": [
       "<Figure size 432x288 with 1 Axes>"
      ]
     },
     "metadata": {
      "needs_background": "light"
     },
     "output_type": "display_data"
    }
   ],
   "source": [
    "plt.hist(data_scaled[:,2],bins=10)\n",
    "plt.title('Original TC')\n",
    "plt.xlabel('Tc')\n",
    "plt.ylabel('Frequency')\n",
    "plt.show()"
   ]
  },
  {
   "cell_type": "code",
   "execution_count": null,
   "id": "b1016c81",
   "metadata": {},
   "outputs": [],
   "source": []
  }
 ],
 "metadata": {
  "kernelspec": {
   "display_name": "Python 3 (ipykernel)",
   "language": "python",
   "name": "python3"
  },
  "language_info": {
   "codemirror_mode": {
    "name": "ipython",
    "version": 3
   },
   "file_extension": ".py",
   "mimetype": "text/x-python",
   "name": "python",
   "nbconvert_exporter": "python",
   "pygments_lexer": "ipython3",
   "version": "3.9.7"
  }
 },
 "nbformat": 4,
 "nbformat_minor": 5
}
