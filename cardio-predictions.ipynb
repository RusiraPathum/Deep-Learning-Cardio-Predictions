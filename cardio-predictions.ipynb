{
 "cells": [
  {
   "cell_type": "code",
   "execution_count": 1,
   "id": "8122ec78",
   "metadata": {},
   "outputs": [],
   "source": [
    "import numpy as np\n",
    "import pandas as pd\n",
    "\n",
    "from matplotlib import pyplot as plt"
   ]
  },
  {
   "cell_type": "code",
   "execution_count": 2,
   "id": "91553989",
   "metadata": {},
   "outputs": [],
   "source": [
    "df = pd.read_csv('cardio_dataset.csv')"
   ]
  },
  {
   "cell_type": "code",
   "execution_count": 3,
   "id": "3f1d256c",
   "metadata": {},
   "outputs": [
    {
     "name": "stdout",
     "output_type": "stream",
     "text": [
      "      SEX  AGEIR   TC  HDL  SMOKE_  BPMED  DIAB_01  RISK\n",
      "0       2     48  236   66       0      2        0   1.1\n",
      "1       1     48  260   51       0      2        1   7.0\n",
      "2       1     44  187   49       1      2        0   7.0\n",
      "3       2     42  216   57       1      2        0   0.4\n",
      "4       2     56  156   42       0      2        0   2.2\n",
      "...   ...    ...  ...  ...     ...    ...      ...   ...\n",
      "6639    2     65  307   42       1      1        1  36.6\n",
      "6640    2     42  169   56       0      1        0   0.8\n",
      "6641    1     65  212   35       1      1        0  30.6\n",
      "6642    1     66  184   39       0      1        0  23.8\n",
      "6643    2     45  203   51       0      2        0   1.0\n",
      "\n",
      "[6644 rows x 8 columns]\n"
     ]
    }
   ],
   "source": [
    "print(df)"
   ]
  },
  {
   "cell_type": "code",
   "execution_count": 5,
   "id": "6f1a200c",
   "metadata": {},
   "outputs": [
    {
     "name": "stdout",
     "output_type": "stream",
     "text": [
      "[[  2.   48.  236.  ...   2.    0.    1.1]\n",
      " [  1.   48.  260.  ...   2.    1.    7. ]\n",
      " [  1.   44.  187.  ...   2.    0.    7. ]\n",
      " ...\n",
      " [  1.   65.  212.  ...   1.    0.   30.6]\n",
      " [  1.   66.  184.  ...   1.    0.   23.8]\n",
      " [  2.   45.  203.  ...   2.    0.    1. ]]\n"
     ]
    }
   ],
   "source": [
    "dataset = df.values\n",
    "print(dataset)"
   ]
  },
  {
   "cell_type": "code",
   "execution_count": 6,
   "id": "2947b8b4",
   "metadata": {},
   "outputs": [],
   "source": [
    "data = dataset[:,0:7]\n",
    "target = dataset[:,7]"
   ]
  },
  {
   "cell_type": "code",
   "execution_count": 7,
   "id": "277e0c00",
   "metadata": {},
   "outputs": [
    {
     "name": "stdout",
     "output_type": "stream",
     "text": [
      "[[  2.  48. 236. ...   0.   2.   0.]\n",
      " [  1.  48. 260. ...   0.   2.   1.]\n",
      " [  1.  44. 187. ...   1.   2.   0.]\n",
      " ...\n",
      " [  1.  65. 212. ...   1.   1.   0.]\n",
      " [  1.  66. 184. ...   0.   1.   0.]\n",
      " [  2.  45. 203. ...   0.   2.   0.]]\n"
     ]
    }
   ],
   "source": [
    "print(data)"
   ]
  },
  {
   "cell_type": "code",
   "execution_count": 8,
   "id": "7305ba3f",
   "metadata": {},
   "outputs": [
    {
     "name": "stdout",
     "output_type": "stream",
     "text": [
      "[ 1.1  7.   7.  ... 30.6 23.8  1. ]\n"
     ]
    }
   ],
   "source": [
    "print(target)"
   ]
  },
  {
   "cell_type": "code",
   "execution_count": null,
   "id": "6dc0189c",
   "metadata": {},
   "outputs": [],
   "source": []
  }
 ],
 "metadata": {
  "kernelspec": {
   "display_name": "Python 3 (ipykernel)",
   "language": "python",
   "name": "python3"
  },
  "language_info": {
   "codemirror_mode": {
    "name": "ipython",
    "version": 3
   },
   "file_extension": ".py",
   "mimetype": "text/x-python",
   "name": "python",
   "nbconvert_exporter": "python",
   "pygments_lexer": "ipython3",
   "version": "3.9.7"
  }
 },
 "nbformat": 4,
 "nbformat_minor": 5
}
