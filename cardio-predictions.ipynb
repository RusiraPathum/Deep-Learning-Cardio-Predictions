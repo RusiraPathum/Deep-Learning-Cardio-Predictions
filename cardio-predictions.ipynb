{
 "cells": [
  {
   "cell_type": "code",
   "execution_count": 1,
   "id": "032776f9",
   "metadata": {},
   "outputs": [],
   "source": [
    "import numpy as np\n",
    "import pandas as pd\n",
    "\n",
    "from matplotlib import pyplot as plt"
   ]
  },
  {
   "cell_type": "code",
   "execution_count": 2,
   "id": "b231a534",
   "metadata": {},
   "outputs": [],
   "source": [
    "df = pd.read_csv('cardio_dataset.csv')"
   ]
  },
  {
   "cell_type": "code",
   "execution_count": 3,
   "id": "7fa77f40",
   "metadata": {},
   "outputs": [
    {
     "name": "stdout",
     "output_type": "stream",
     "text": [
      "      SEX  AGEIR   TC  HDL  SMOKE_  BPMED  DIAB_01  RISK\n",
      "0       2     48  236   66       0      2        0   1.1\n",
      "1       1     48  260   51       0      2        1   7.0\n",
      "2       1     44  187   49       1      2        0   7.0\n",
      "3       2     42  216   57       1      2        0   0.4\n",
      "4       2     56  156   42       0      2        0   2.2\n",
      "...   ...    ...  ...  ...     ...    ...      ...   ...\n",
      "6639    2     65  307   42       1      1        1  36.6\n",
      "6640    2     42  169   56       0      1        0   0.8\n",
      "6641    1     65  212   35       1      1        0  30.6\n",
      "6642    1     66  184   39       0      1        0  23.8\n",
      "6643    2     45  203   51       0      2        0   1.0\n",
      "\n",
      "[6644 rows x 8 columns]\n"
     ]
    }
   ],
   "source": [
    "print(df)"
   ]
  },
  {
   "cell_type": "code",
   "execution_count": 5,
   "id": "24fc1b2c",
   "metadata": {},
   "outputs": [
    {
     "name": "stdout",
     "output_type": "stream",
     "text": [
      "[[  2.   48.  236.  ...   2.    0.    1.1]\n",
      " [  1.   48.  260.  ...   2.    1.    7. ]\n",
      " [  1.   44.  187.  ...   2.    0.    7. ]\n",
      " ...\n",
      " [  1.   65.  212.  ...   1.    0.   30.6]\n",
      " [  1.   66.  184.  ...   1.    0.   23.8]\n",
      " [  2.   45.  203.  ...   2.    0.    1. ]]\n"
     ]
    }
   ],
   "source": [
    "dataset = df.values\n",
    "print(dataset)"
   ]
  },
  {
   "cell_type": "code",
   "execution_count": 6,
   "id": "ff497e64",
   "metadata": {},
   "outputs": [],
   "source": [
    "data = dataset[:,0:7]\n",
    "target = dataset[:,7]"
   ]
  },
  {
   "cell_type": "code",
   "execution_count": 7,
   "id": "9bd2437e",
   "metadata": {},
   "outputs": [
    {
     "name": "stdout",
     "output_type": "stream",
     "text": [
      "[[  2.  48. 236. ...   0.   2.   0.]\n",
      " [  1.  48. 260. ...   0.   2.   1.]\n",
      " [  1.  44. 187. ...   1.   2.   0.]\n",
      " ...\n",
      " [  1.  65. 212. ...   1.   1.   0.]\n",
      " [  1.  66. 184. ...   0.   1.   0.]\n",
      " [  2.  45. 203. ...   0.   2.   0.]]\n"
     ]
    }
   ],
   "source": [
    "print(data)"
   ]
  },
  {
   "cell_type": "code",
   "execution_count": 8,
   "id": "9c8ff2c6",
   "metadata": {},
   "outputs": [
    {
     "name": "stdout",
     "output_type": "stream",
     "text": [
      "[ 1.1  7.   7.  ... 30.6 23.8  1. ]\n"
     ]
    }
   ],
   "source": [
    "print(target)"
   ]
  },
  {
   "cell_type": "code",
   "execution_count": 9,
   "id": "15b1e122",
   "metadata": {},
   "outputs": [],
   "source": [
    "from sklearn.preprocessing import MinMaxScaler\n",
    "\n",
    "target = np.reshape(target, (-1,1)) # convet 2d array"
   ]
  },
  {
   "cell_type": "code",
   "execution_count": 10,
   "id": "8b5af844",
   "metadata": {},
   "outputs": [
    {
     "name": "stdout",
     "output_type": "stream",
     "text": [
      "[[ 1.1]\n",
      " [ 7. ]\n",
      " [ 7. ]\n",
      " ...\n",
      " [30.6]\n",
      " [23.8]\n",
      " [ 1. ]]\n"
     ]
    }
   ],
   "source": [
    "print(target)"
   ]
  },
  {
   "cell_type": "code",
   "execution_count": 14,
   "id": "4df2d9c9",
   "metadata": {},
   "outputs": [],
   "source": [
    "scaler_data = MinMaxScaler()\n",
    "scaler_target = MinMaxScaler()\n",
    "\n",
    "# scaler_target = MinMaxScaler(feature_range=(0,10)) #we can give any range\n",
    "\n",
    "scaler_data.fit(data)\n",
    "scaler_target.fit(target)\n",
    "\n",
    "# data_scaled = scaler_data.fit_transform(data)\n",
    "\n",
    "data_scaled = scaler_data.transform(data)\n",
    "target_scaled = scaler_target.transform(target)"
   ]
  },
  {
   "cell_type": "code",
   "execution_count": 15,
   "id": "a99e2f2a",
   "metadata": {},
   "outputs": [
    {
     "name": "stdout",
     "output_type": "stream",
     "text": [
      "[[1.         0.20512821 0.40045249 ... 0.         1.         0.        ]\n",
      " [0.         0.20512821 0.45475113 ... 0.         1.         1.        ]\n",
      " [0.         0.1025641  0.28959276 ... 1.         1.         0.        ]\n",
      " ...\n",
      " [0.         0.64102564 0.34615385 ... 1.         0.         0.        ]\n",
      " [0.         0.66666667 0.28280543 ... 0.         0.         0.        ]\n",
      " [1.         0.12820513 0.32579186 ... 0.         1.         0.        ]]\n"
     ]
    }
   ],
   "source": [
    "print(data_scaled)"
   ]
  },
  {
   "cell_type": "code",
   "execution_count": 18,
   "id": "bf49c440",
   "metadata": {},
   "outputs": [
    {
     "data": {
      "image/png": "[encoded data removed]",
      "text/plain": [
       "<Figure size 432x288 with 1 Axes>"
      ]
     },
     "metadata": {
      "needs_background": "light"
     },
     "output_type": "display_data"
    }
   ],
   "source": [
    "plt.hist(data_scaled[:,1],bins=10)\n",
    "plt.title('Original TC')\n",
    "plt.xlabel('Tc')\n",
    "plt.ylabel('Frequency')\n",
    "plt.show()"
   ]
  },
  {
   "cell_type": "markdown",
   "id": "4802df1e",
   "metadata": {},
   "source": [
    "# Train Test Split"
   ]
  },
  {
   "cell_type": "code",
   "execution_count": 20,
   "id": "f6c46940",
   "metadata": {},
   "outputs": [],
   "source": [
    "from sklearn.model_selection import train_test_split\n",
    "\n",
    "train_data, test_data, train_target, test_target = train_test_split(data_scaled, target_scaled, test_size=0.2)"
   ]
  },
  {
   "cell_type": "markdown",
   "id": "ecd3aae7",
   "metadata": {},
   "source": [
    "# FFNN Architecture"
   ]
  },
  {
   "cell_type": "code",
   "execution_count": 22,
   "id": "e65939de",
   "metadata": {},
   "outputs": [
    {
     "name": "stdout",
     "output_type": "stream",
     "text": [
      "Model: \"sequential\"\n",
      "_________________________________________________________________\n",
      " Layer (type)                Output Shape              Param #   \n",
      "=================================================================\n",
      " dense (Dense)               (None, 128)               1024      \n",
      "                                                                 \n",
      " dense_1 (Dense)             (None, 64)                8256      \n",
      "                                                                 \n",
      " dense_2 (Dense)             (None, 10)                650       \n",
      "                                                                 \n",
      " dense_3 (Dense)             (None, 1)                 11        \n",
      "                                                                 \n",
      "=================================================================\n",
      "Total params: 9,941\n",
      "Trainable params: 9,941\n",
      "Non-trainable params: 0\n",
      "_________________________________________________________________\n"
     ]
    }
   ],
   "source": [
    "import keras.models as models\n",
    "import keras.layers as layers\n",
    "from keras.layers import Dropout\n",
    "import numpy as np\n",
    "\n",
    "model = models.Sequential()\n",
    "model.add(layers.Dense(128, input_dim=7, activation='relu'))\n",
    "model.add(layers.Dense(64, activation='relu'))\n",
    "model.add(layers.Dense(10, activation='relu'))\n",
    "model.add(layers.Dense(1, activation='linear'))\n",
    "\n",
    "model.compile(optimizer='adam', loss='mse', metrics=['mse','mae'])\n",
    "model.summary()\n"
   ]
  },
  {
   "cell_type": "code",
   "execution_count": 23,
   "id": "d879177c",
   "metadata": {},
   "outputs": [
    {
     "name": "stdout",
     "output_type": "stream",
     "text": [
      "Epoch 1/200\n",
      "167/167 [==============================] - 1s 2ms/step - loss: 0.0072 - mse: 0.0072 - mae: 0.0518 - val_loss: 0.0037 - val_mse: 0.0037 - val_mae: 0.0354\n",
      "Epoch 2/200\n",
      "167/167 [==============================] - 0s 2ms/step - loss: 0.0035 - mse: 0.0035 - mae: 0.0368 - val_loss: 0.0037 - val_mse: 0.0037 - val_mae: 0.0391\n",
      "Epoch 3/200\n",
      "167/167 [==============================] - 0s 1ms/step - loss: 0.0034 - mse: 0.0034 - mae: 0.0357 - val_loss: 0.0037 - val_mse: 0.0037 - val_mae: 0.0385\n",
      "Epoch 4/200\n",
      "167/167 [==============================] - 0s 1ms/step - loss: 0.0034 - mse: 0.0034 - mae: 0.0361 - val_loss: 0.0038 - val_mse: 0.0038 - val_mae: 0.0393\n",
      "Epoch 5/200\n",
      "167/167 [==============================] - 0s 1ms/step - loss: 0.0033 - mse: 0.0033 - mae: 0.0353 - val_loss: 0.0033 - val_mse: 0.0033 - val_mae: 0.0327\n",
      "Epoch 6/200\n",
      "167/167 [==============================] - 0s 1ms/step - loss: 0.0032 - mse: 0.0032 - mae: 0.0348 - val_loss: 0.0034 - val_mse: 0.0034 - val_mae: 0.0338\n",
      "Epoch 7/200\n",
      "167/167 [==============================] - 0s 1ms/step - loss: 0.0031 - mse: 0.0031 - mae: 0.0344 - val_loss: 0.0035 - val_mse: 0.0035 - val_mae: 0.0342\n",
      "Epoch 8/200\n",
      "167/167 [==============================] - 0s 1ms/step - loss: 0.0032 - mse: 0.0032 - mae: 0.0348 - val_loss: 0.0033 - val_mse: 0.0033 - val_mae: 0.0345\n",
      "Epoch 9/200\n",
      "167/167 [==============================] - 0s 1ms/step - loss: 0.0030 - mse: 0.0030 - mae: 0.0335 - val_loss: 0.0033 - val_mse: 0.0033 - val_mae: 0.0337\n",
      "Epoch 10/200\n",
      "167/167 [==============================] - 0s 1ms/step - loss: 0.0030 - mse: 0.0030 - mae: 0.0338 - val_loss: 0.0033 - val_mse: 0.0033 - val_mae: 0.0340\n",
      "Epoch 11/200\n",
      "167/167 [==============================] - 0s 1ms/step - loss: 0.0031 - mse: 0.0031 - mae: 0.0349 - val_loss: 0.0035 - val_mse: 0.0035 - val_mae: 0.0334\n",
      "Epoch 12/200\n",
      "167/167 [==============================] - 0s 1ms/step - loss: 0.0030 - mse: 0.0030 - mae: 0.0342 - val_loss: 0.0033 - val_mse: 0.0033 - val_mae: 0.0348\n",
      "Epoch 13/200\n",
      "167/167 [==============================] - 0s 1ms/step - loss: 0.0029 - mse: 0.0029 - mae: 0.0331 - val_loss: 0.0033 - val_mse: 0.0033 - val_mae: 0.0326\n",
      "Epoch 14/200\n",
      "167/167 [==============================] - 0s 1ms/step - loss: 0.0031 - mse: 0.0031 - mae: 0.0340 - val_loss: 0.0033 - val_mse: 0.0033 - val_mae: 0.0324\n",
      "Epoch 15/200\n",
      "167/167 [==============================] - 0s 1ms/step - loss: 0.0029 - mse: 0.0029 - mae: 0.0331 - val_loss: 0.0031 - val_mse: 0.0031 - val_mae: 0.0340\n",
      "Epoch 16/200\n",
      "167/167 [==============================] - 0s 1ms/step - loss: 0.0029 - mse: 0.0029 - mae: 0.0330 - val_loss: 0.0032 - val_mse: 0.0032 - val_mae: 0.0331\n",
      "Epoch 17/200\n",
      "167/167 [==============================] - 0s 1ms/step - loss: 0.0029 - mse: 0.0029 - mae: 0.0331 - val_loss: 0.0034 - val_mse: 0.0034 - val_mae: 0.0336\n",
      "Epoch 18/200\n",
      "167/167 [==============================] - 0s 1ms/step - loss: 0.0029 - mse: 0.0029 - mae: 0.0330 - val_loss: 0.0034 - val_mse: 0.0034 - val_mae: 0.0345\n",
      "Epoch 19/200\n",
      "167/167 [==============================] - 0s 1ms/step - loss: 0.0029 - mse: 0.0029 - mae: 0.0330 - val_loss: 0.0031 - val_mse: 0.0031 - val_mae: 0.0324\n",
      "Epoch 20/200\n",
      "167/167 [==============================] - 0s 1ms/step - loss: 0.0029 - mse: 0.0029 - mae: 0.0328 - val_loss: 0.0035 - val_mse: 0.0035 - val_mae: 0.0328\n",
      "Epoch 21/200\n",
      "167/167 [==============================] - 0s 1ms/step - loss: 0.0030 - mse: 0.0030 - mae: 0.0335 - val_loss: 0.0033 - val_mse: 0.0033 - val_mae: 0.0325\n",
      "Epoch 22/200\n",
      "167/167 [==============================] - 0s 1ms/step - loss: 0.0029 - mse: 0.0029 - mae: 0.0326 - val_loss: 0.0032 - val_mse: 0.0032 - val_mae: 0.0325\n",
      "Epoch 23/200\n",
      "167/167 [==============================] - 0s 1ms/step - loss: 0.0029 - mse: 0.0029 - mae: 0.0327 - val_loss: 0.0033 - val_mse: 0.0033 - val_mae: 0.0372\n",
      "Epoch 24/200\n",
      "167/167 [==============================] - 0s 1ms/step - loss: 0.0029 - mse: 0.0029 - mae: 0.0334 - val_loss: 0.0034 - val_mse: 0.0034 - val_mae: 0.0346\n",
      "Epoch 25/200\n",
      "167/167 [==============================] - 0s 1ms/step - loss: 0.0029 - mse: 0.0029 - mae: 0.0330 - val_loss: 0.0035 - val_mse: 0.0035 - val_mae: 0.0360\n",
      "Epoch 26/200\n",
      "167/167 [==============================] - 0s 1ms/step - loss: 0.0028 - mse: 0.0028 - mae: 0.0322 - val_loss: 0.0033 - val_mse: 0.0033 - val_mae: 0.0321\n",
      "Epoch 27/200\n",
      "167/167 [==============================] - 0s 1ms/step - loss: 0.0028 - mse: 0.0028 - mae: 0.0326 - val_loss: 0.0032 - val_mse: 0.0032 - val_mae: 0.0323\n",
      "Epoch 28/200\n",
      "167/167 [==============================] - 0s 1ms/step - loss: 0.0030 - mse: 0.0030 - mae: 0.0336 - val_loss: 0.0034 - val_mse: 0.0034 - val_mae: 0.0362\n",
      "Epoch 29/200\n",
      "167/167 [==============================] - 0s 1ms/step - loss: 0.0029 - mse: 0.0029 - mae: 0.0329 - val_loss: 0.0032 - val_mse: 0.0032 - val_mae: 0.0327\n",
      "Epoch 30/200\n",
      "167/167 [==============================] - 0s 1ms/step - loss: 0.0028 - mse: 0.0028 - mae: 0.0324 - val_loss: 0.0035 - val_mse: 0.0035 - val_mae: 0.0333\n",
      "Epoch 31/200\n",
      "167/167 [==============================] - 0s 1ms/step - loss: 0.0028 - mse: 0.0028 - mae: 0.0322 - val_loss: 0.0033 - val_mse: 0.0033 - val_mae: 0.0340\n",
      "Epoch 32/200\n",
      "167/167 [==============================] - 0s 1ms/step - loss: 0.0028 - mse: 0.0028 - mae: 0.0326 - val_loss: 0.0031 - val_mse: 0.0031 - val_mae: 0.0336\n",
      "Epoch 33/200\n",
      "167/167 [==============================] - 0s 1ms/step - loss: 0.0028 - mse: 0.0028 - mae: 0.0322 - val_loss: 0.0031 - val_mse: 0.0031 - val_mae: 0.0318\n",
      "Epoch 34/200\n",
      "167/167 [==============================] - 0s 1ms/step - loss: 0.0028 - mse: 0.0028 - mae: 0.0320 - val_loss: 0.0034 - val_mse: 0.0034 - val_mae: 0.0354\n",
      "Epoch 35/200\n",
      "167/167 [==============================] - 0s 1ms/step - loss: 0.0028 - mse: 0.0028 - mae: 0.0328 - val_loss: 0.0034 - val_mse: 0.0034 - val_mae: 0.0327\n",
      "Epoch 36/200\n",
      "167/167 [==============================] - 0s 1ms/step - loss: 0.0028 - mse: 0.0028 - mae: 0.0328 - val_loss: 0.0031 - val_mse: 0.0031 - val_mae: 0.0344\n",
      "Epoch 37/200\n",
      "167/167 [==============================] - 0s 1ms/step - loss: 0.0028 - mse: 0.0028 - mae: 0.0324 - val_loss: 0.0032 - val_mse: 0.0032 - val_mae: 0.0336\n",
      "Epoch 38/200\n",
      "167/167 [==============================] - 0s 1ms/step - loss: 0.0028 - mse: 0.0028 - mae: 0.0325 - val_loss: 0.0031 - val_mse: 0.0031 - val_mae: 0.0334\n",
      "Epoch 39/200\n",
      "167/167 [==============================] - 0s 1ms/step - loss: 0.0027 - mse: 0.0027 - mae: 0.0319 - val_loss: 0.0033 - val_mse: 0.0033 - val_mae: 0.0323\n",
      "Epoch 40/200\n",
      "167/167 [==============================] - 0s 1ms/step - loss: 0.0027 - mse: 0.0027 - mae: 0.0319 - val_loss: 0.0032 - val_mse: 0.0032 - val_mae: 0.0348\n",
      "Epoch 41/200\n",
      "167/167 [==============================] - 0s 1ms/step - loss: 0.0029 - mse: 0.0029 - mae: 0.0327 - val_loss: 0.0034 - val_mse: 0.0034 - val_mae: 0.0345\n",
      "Epoch 42/200\n",
      "167/167 [==============================] - 0s 1ms/step - loss: 0.0027 - mse: 0.0027 - mae: 0.0322 - val_loss: 0.0031 - val_mse: 0.0031 - val_mae: 0.0331\n",
      "Epoch 43/200\n",
      "167/167 [==============================] - 0s 1ms/step - loss: 0.0028 - mse: 0.0028 - mae: 0.0326 - val_loss: 0.0031 - val_mse: 0.0031 - val_mae: 0.0332\n",
      "Epoch 44/200\n",
      "167/167 [==============================] - 0s 1ms/step - loss: 0.0027 - mse: 0.0027 - mae: 0.0319 - val_loss: 0.0031 - val_mse: 0.0031 - val_mae: 0.0318\n",
      "Epoch 45/200\n",
      "167/167 [==============================] - 0s 1ms/step - loss: 0.0027 - mse: 0.0027 - mae: 0.0315 - val_loss: 0.0031 - val_mse: 0.0031 - val_mae: 0.0319\n",
      "Epoch 46/200\n",
      "167/167 [==============================] - 0s 1ms/step - loss: 0.0028 - mse: 0.0028 - mae: 0.0323 - val_loss: 0.0030 - val_mse: 0.0030 - val_mae: 0.0317\n",
      "Epoch 47/200\n",
      "167/167 [==============================] - 0s 1ms/step - loss: 0.0027 - mse: 0.0027 - mae: 0.0320 - val_loss: 0.0034 - val_mse: 0.0034 - val_mae: 0.0322\n",
      "Epoch 48/200\n",
      "167/167 [==============================] - 0s 1ms/step - loss: 0.0027 - mse: 0.0027 - mae: 0.0317 - val_loss: 0.0031 - val_mse: 0.0031 - val_mae: 0.0321\n",
      "Epoch 49/200\n",
      "167/167 [==============================] - 0s 2ms/step - loss: 0.0027 - mse: 0.0027 - mae: 0.0319 - val_loss: 0.0033 - val_mse: 0.0033 - val_mae: 0.0360\n",
      "Epoch 50/200\n"
     ]
    },
    {
     "name": "stdout",
     "output_type": "stream",
     "text": [
      "167/167 [==============================] - 0s 1ms/step - loss: 0.0029 - mse: 0.0029 - mae: 0.0336 - val_loss: 0.0032 - val_mse: 0.0032 - val_mae: 0.0315\n",
      "Epoch 51/200\n",
      "167/167 [==============================] - 0s 1ms/step - loss: 0.0027 - mse: 0.0027 - mae: 0.0317 - val_loss: 0.0032 - val_mse: 0.0032 - val_mae: 0.0328\n",
      "Epoch 52/200\n",
      "167/167 [==============================] - 0s 1ms/step - loss: 0.0027 - mse: 0.0027 - mae: 0.0319 - val_loss: 0.0031 - val_mse: 0.0031 - val_mae: 0.0333\n",
      "Epoch 53/200\n",
      "167/167 [==============================] - 0s 1ms/step - loss: 0.0027 - mse: 0.0027 - mae: 0.0319 - val_loss: 0.0031 - val_mse: 0.0031 - val_mae: 0.0327\n",
      "Epoch 54/200\n",
      "167/167 [==============================] - 0s 1ms/step - loss: 0.0027 - mse: 0.0027 - mae: 0.0320 - val_loss: 0.0031 - val_mse: 0.0031 - val_mae: 0.0316\n",
      "Epoch 55/200\n",
      "167/167 [==============================] - 0s 1ms/step - loss: 0.0026 - mse: 0.0026 - mae: 0.0314 - val_loss: 0.0031 - val_mse: 0.0031 - val_mae: 0.0318\n",
      "Epoch 56/200\n",
      "167/167 [==============================] - 0s 1ms/step - loss: 0.0026 - mse: 0.0026 - mae: 0.0312 - val_loss: 0.0031 - val_mse: 0.0031 - val_mae: 0.0317\n",
      "Epoch 57/200\n",
      "167/167 [==============================] - 0s 1ms/step - loss: 0.0026 - mse: 0.0026 - mae: 0.0313 - val_loss: 0.0033 - val_mse: 0.0033 - val_mae: 0.0350\n",
      "Epoch 58/200\n",
      "167/167 [==============================] - 0s 1ms/step - loss: 0.0026 - mse: 0.0026 - mae: 0.0315 - val_loss: 0.0030 - val_mse: 0.0030 - val_mae: 0.0317\n",
      "Epoch 59/200\n",
      "167/167 [==============================] - 0s 1ms/step - loss: 0.0026 - mse: 0.0026 - mae: 0.0313 - val_loss: 0.0032 - val_mse: 0.0032 - val_mae: 0.0331\n",
      "Epoch 60/200\n",
      "167/167 [==============================] - 0s 1ms/step - loss: 0.0028 - mse: 0.0028 - mae: 0.0325 - val_loss: 0.0031 - val_mse: 0.0031 - val_mae: 0.0316\n",
      "Epoch 61/200\n",
      "167/167 [==============================] - 0s 1ms/step - loss: 0.0026 - mse: 0.0026 - mae: 0.0319 - val_loss: 0.0033 - val_mse: 0.0033 - val_mae: 0.0328\n",
      "Epoch 62/200\n",
      "167/167 [==============================] - 0s 1ms/step - loss: 0.0027 - mse: 0.0027 - mae: 0.0318 - val_loss: 0.0032 - val_mse: 0.0032 - val_mae: 0.0322\n",
      "Epoch 63/200\n",
      "167/167 [==============================] - 0s 1ms/step - loss: 0.0027 - mse: 0.0027 - mae: 0.0319 - val_loss: 0.0032 - val_mse: 0.0032 - val_mae: 0.0321\n",
      "Epoch 64/200\n",
      "167/167 [==============================] - 0s 1ms/step - loss: 0.0026 - mse: 0.0026 - mae: 0.0316 - val_loss: 0.0030 - val_mse: 0.0030 - val_mae: 0.0318\n",
      "Epoch 65/200\n",
      "167/167 [==============================] - 0s 1ms/step - loss: 0.0026 - mse: 0.0026 - mae: 0.0314 - val_loss: 0.0031 - val_mse: 0.0031 - val_mae: 0.0332\n",
      "Epoch 66/200\n",
      "167/167 [==============================] - 0s 1ms/step - loss: 0.0026 - mse: 0.0026 - mae: 0.0316 - val_loss: 0.0031 - val_mse: 0.0031 - val_mae: 0.0317\n",
      "Epoch 67/200\n",
      "167/167 [==============================] - 0s 1ms/step - loss: 0.0026 - mse: 0.0026 - mae: 0.0312 - val_loss: 0.0031 - val_mse: 0.0031 - val_mae: 0.0324\n",
      "Epoch 68/200\n",
      "167/167 [==============================] - 0s 1ms/step - loss: 0.0026 - mse: 0.0026 - mae: 0.0309 - val_loss: 0.0031 - val_mse: 0.0031 - val_mae: 0.0328\n",
      "Epoch 69/200\n",
      "167/167 [==============================] - 0s 1ms/step - loss: 0.0027 - mse: 0.0027 - mae: 0.0320 - val_loss: 0.0031 - val_mse: 0.0031 - val_mae: 0.0316\n",
      "Epoch 70/200\n",
      "167/167 [==============================] - 0s 1ms/step - loss: 0.0026 - mse: 0.0026 - mae: 0.0311 - val_loss: 0.0031 - val_mse: 0.0031 - val_mae: 0.0325\n",
      "Epoch 71/200\n",
      "167/167 [==============================] - 0s 1ms/step - loss: 0.0027 - mse: 0.0027 - mae: 0.0316 - val_loss: 0.0032 - val_mse: 0.0032 - val_mae: 0.0333\n",
      "Epoch 72/200\n",
      "167/167 [==============================] - 0s 1ms/step - loss: 0.0026 - mse: 0.0026 - mae: 0.0311 - val_loss: 0.0031 - val_mse: 0.0031 - val_mae: 0.0319\n",
      "Epoch 73/200\n",
      "167/167 [==============================] - 0s 1ms/step - loss: 0.0026 - mse: 0.0026 - mae: 0.0311 - val_loss: 0.0032 - val_mse: 0.0032 - val_mae: 0.0318\n",
      "Epoch 74/200\n",
      "167/167 [==============================] - 0s 1ms/step - loss: 0.0025 - mse: 0.0025 - mae: 0.0310 - val_loss: 0.0031 - val_mse: 0.0031 - val_mae: 0.0321\n",
      "Epoch 75/200\n",
      "167/167 [==============================] - 0s 1ms/step - loss: 0.0025 - mse: 0.0025 - mae: 0.0310 - val_loss: 0.0035 - val_mse: 0.0035 - val_mae: 0.0354\n",
      "Epoch 76/200\n",
      "167/167 [==============================] - 0s 1ms/step - loss: 0.0026 - mse: 0.0026 - mae: 0.0309 - val_loss: 0.0033 - val_mse: 0.0033 - val_mae: 0.0340\n",
      "Epoch 77/200\n",
      "167/167 [==============================] - 0s 1ms/step - loss: 0.0027 - mse: 0.0027 - mae: 0.0317 - val_loss: 0.0034 - val_mse: 0.0034 - val_mae: 0.0383\n",
      "Epoch 78/200\n",
      "167/167 [==============================] - 0s 1ms/step - loss: 0.0025 - mse: 0.0025 - mae: 0.0309 - val_loss: 0.0031 - val_mse: 0.0031 - val_mae: 0.0320\n",
      "Epoch 79/200\n",
      "167/167 [==============================] - 0s 1ms/step - loss: 0.0025 - mse: 0.0025 - mae: 0.0307 - val_loss: 0.0032 - val_mse: 0.0032 - val_mae: 0.0320\n",
      "Epoch 80/200\n",
      "167/167 [==============================] - 0s 1ms/step - loss: 0.0025 - mse: 0.0025 - mae: 0.0312 - val_loss: 0.0031 - val_mse: 0.0031 - val_mae: 0.0322\n",
      "Epoch 81/200\n",
      "167/167 [==============================] - 0s 1ms/step - loss: 0.0025 - mse: 0.0025 - mae: 0.0309 - val_loss: 0.0032 - val_mse: 0.0032 - val_mae: 0.0323\n",
      "Epoch 82/200\n",
      "167/167 [==============================] - 0s 1ms/step - loss: 0.0025 - mse: 0.0025 - mae: 0.0307 - val_loss: 0.0031 - val_mse: 0.0031 - val_mae: 0.0329\n",
      "Epoch 83/200\n",
      "167/167 [==============================] - 0s 1ms/step - loss: 0.0025 - mse: 0.0025 - mae: 0.0307 - val_loss: 0.0031 - val_mse: 0.0031 - val_mae: 0.0330\n",
      "Epoch 84/200\n",
      "167/167 [==============================] - 0s 1ms/step - loss: 0.0025 - mse: 0.0025 - mae: 0.0308 - val_loss: 0.0038 - val_mse: 0.0038 - val_mae: 0.0398\n",
      "Epoch 85/200\n",
      "167/167 [==============================] - 0s 1ms/step - loss: 0.0026 - mse: 0.0026 - mae: 0.0311 - val_loss: 0.0032 - val_mse: 0.0032 - val_mae: 0.0345\n",
      "Epoch 86/200\n",
      "167/167 [==============================] - 0s 1ms/step - loss: 0.0025 - mse: 0.0025 - mae: 0.0307 - val_loss: 0.0033 - val_mse: 0.0033 - val_mae: 0.0350\n",
      "Epoch 87/200\n",
      "167/167 [==============================] - 0s 1ms/step - loss: 0.0026 - mse: 0.0026 - mae: 0.0311 - val_loss: 0.0033 - val_mse: 0.0033 - val_mae: 0.0346\n",
      "Epoch 88/200\n",
      "167/167 [==============================] - 0s 1ms/step - loss: 0.0025 - mse: 0.0025 - mae: 0.0310 - val_loss: 0.0032 - val_mse: 0.0032 - val_mae: 0.0320\n",
      "Epoch 89/200\n",
      "167/167 [==============================] - 0s 1ms/step - loss: 0.0025 - mse: 0.0025 - mae: 0.0309 - val_loss: 0.0033 - val_mse: 0.0033 - val_mae: 0.0324\n",
      "Epoch 90/200\n",
      "167/167 [==============================] - 0s 1ms/step - loss: 0.0025 - mse: 0.0025 - mae: 0.0308 - val_loss: 0.0033 - val_mse: 0.0033 - val_mae: 0.0350\n",
      "Epoch 91/200\n",
      "167/167 [==============================] - 0s 1ms/step - loss: 0.0025 - mse: 0.0025 - mae: 0.0312 - val_loss: 0.0034 - val_mse: 0.0034 - val_mae: 0.0331\n",
      "Epoch 92/200\n",
      "167/167 [==============================] - 0s 1ms/step - loss: 0.0025 - mse: 0.0025 - mae: 0.0308 - val_loss: 0.0032 - val_mse: 0.0032 - val_mae: 0.0332\n",
      "Epoch 93/200\n",
      "167/167 [==============================] - 0s 1ms/step - loss: 0.0025 - mse: 0.0025 - mae: 0.0305 - val_loss: 0.0031 - val_mse: 0.0031 - val_mae: 0.0317\n",
      "Epoch 94/200\n",
      "167/167 [==============================] - 0s 1ms/step - loss: 0.0025 - mse: 0.0025 - mae: 0.0307 - val_loss: 0.0031 - val_mse: 0.0031 - val_mae: 0.0326\n",
      "Epoch 95/200\n",
      "167/167 [==============================] - 0s 1ms/step - loss: 0.0025 - mse: 0.0025 - mae: 0.0311 - val_loss: 0.0032 - val_mse: 0.0032 - val_mae: 0.0326\n",
      "Epoch 96/200\n",
      "167/167 [==============================] - 0s 1ms/step - loss: 0.0024 - mse: 0.0024 - mae: 0.0303 - val_loss: 0.0032 - val_mse: 0.0032 - val_mae: 0.0326\n",
      "Epoch 97/200\n",
      "167/167 [==============================] - 0s 1ms/step - loss: 0.0024 - mse: 0.0024 - mae: 0.0305 - val_loss: 0.0032 - val_mse: 0.0032 - val_mae: 0.0336\n",
      "Epoch 98/200\n",
      "167/167 [==============================] - 0s 1ms/step - loss: 0.0025 - mse: 0.0025 - mae: 0.0306 - val_loss: 0.0032 - val_mse: 0.0032 - val_mae: 0.0324\n",
      "Epoch 99/200\n"
     ]
    },
    {
     "name": "stdout",
     "output_type": "stream",
     "text": [
      "167/167 [==============================] - 0s 1ms/step - loss: 0.0025 - mse: 0.0025 - mae: 0.0307 - val_loss: 0.0034 - val_mse: 0.0034 - val_mae: 0.0326\n",
      "Epoch 100/200\n",
      "167/167 [==============================] - 0s 1ms/step - loss: 0.0025 - mse: 0.0025 - mae: 0.0310 - val_loss: 0.0031 - val_mse: 0.0031 - val_mae: 0.0324\n",
      "Epoch 101/200\n",
      "167/167 [==============================] - 0s 1ms/step - loss: 0.0024 - mse: 0.0024 - mae: 0.0301 - val_loss: 0.0032 - val_mse: 0.0032 - val_mae: 0.0329\n",
      "Epoch 102/200\n",
      "167/167 [==============================] - 0s 1ms/step - loss: 0.0025 - mse: 0.0025 - mae: 0.0307 - val_loss: 0.0032 - val_mse: 0.0032 - val_mae: 0.0318\n",
      "Epoch 103/200\n",
      "167/167 [==============================] - 0s 1ms/step - loss: 0.0024 - mse: 0.0024 - mae: 0.0303 - val_loss: 0.0033 - val_mse: 0.0033 - val_mae: 0.0319\n",
      "Epoch 104/200\n",
      "167/167 [==============================] - 0s 1ms/step - loss: 0.0025 - mse: 0.0025 - mae: 0.0303 - val_loss: 0.0033 - val_mse: 0.0033 - val_mae: 0.0328\n",
      "Epoch 105/200\n",
      "167/167 [==============================] - 0s 1ms/step - loss: 0.0025 - mse: 0.0025 - mae: 0.0307 - val_loss: 0.0032 - val_mse: 0.0032 - val_mae: 0.0331\n",
      "Epoch 106/200\n",
      "167/167 [==============================] - 0s 1ms/step - loss: 0.0024 - mse: 0.0024 - mae: 0.0302 - val_loss: 0.0031 - val_mse: 0.0031 - val_mae: 0.0322\n",
      "Epoch 107/200\n",
      "167/167 [==============================] - 0s 1ms/step - loss: 0.0024 - mse: 0.0024 - mae: 0.0305 - val_loss: 0.0032 - val_mse: 0.0032 - val_mae: 0.0327\n",
      "Epoch 108/200\n",
      "167/167 [==============================] - 0s 1ms/step - loss: 0.0024 - mse: 0.0024 - mae: 0.0303 - val_loss: 0.0034 - val_mse: 0.0034 - val_mae: 0.0348\n",
      "Epoch 109/200\n",
      "167/167 [==============================] - 0s 1ms/step - loss: 0.0025 - mse: 0.0025 - mae: 0.0306 - val_loss: 0.0032 - val_mse: 0.0032 - val_mae: 0.0324\n",
      "Epoch 110/200\n",
      "167/167 [==============================] - 0s 1ms/step - loss: 0.0024 - mse: 0.0024 - mae: 0.0301 - val_loss: 0.0033 - val_mse: 0.0033 - val_mae: 0.0323\n",
      "Epoch 111/200\n",
      "167/167 [==============================] - 0s 1ms/step - loss: 0.0024 - mse: 0.0024 - mae: 0.0304 - val_loss: 0.0031 - val_mse: 0.0031 - val_mae: 0.0330\n",
      "Epoch 112/200\n",
      "167/167 [==============================] - 0s 1ms/step - loss: 0.0024 - mse: 0.0024 - mae: 0.0301 - val_loss: 0.0033 - val_mse: 0.0033 - val_mae: 0.0323\n",
      "Epoch 113/200\n",
      "167/167 [==============================] - 0s 1ms/step - loss: 0.0024 - mse: 0.0024 - mae: 0.0300 - val_loss: 0.0031 - val_mse: 0.0031 - val_mae: 0.0329\n",
      "Epoch 114/200\n",
      "167/167 [==============================] - 0s 1ms/step - loss: 0.0024 - mse: 0.0024 - mae: 0.0303 - val_loss: 0.0031 - val_mse: 0.0031 - val_mae: 0.0326\n",
      "Epoch 115/200\n",
      "167/167 [==============================] - 0s 1ms/step - loss: 0.0024 - mse: 0.0024 - mae: 0.0299 - val_loss: 0.0032 - val_mse: 0.0032 - val_mae: 0.0321\n",
      "Epoch 116/200\n",
      "167/167 [==============================] - 0s 1ms/step - loss: 0.0024 - mse: 0.0024 - mae: 0.0301 - val_loss: 0.0033 - val_mse: 0.0033 - val_mae: 0.0331\n",
      "Epoch 117/200\n",
      "167/167 [==============================] - 0s 1ms/step - loss: 0.0025 - mse: 0.0025 - mae: 0.0306 - val_loss: 0.0031 - val_mse: 0.0031 - val_mae: 0.0319\n",
      "Epoch 118/200\n",
      "167/167 [==============================] - 0s 1ms/step - loss: 0.0023 - mse: 0.0023 - mae: 0.0297 - val_loss: 0.0032 - val_mse: 0.0032 - val_mae: 0.0336\n",
      "Epoch 119/200\n",
      "167/167 [==============================] - 0s 1ms/step - loss: 0.0024 - mse: 0.0024 - mae: 0.0301 - val_loss: 0.0034 - val_mse: 0.0034 - val_mae: 0.0325\n",
      "Epoch 120/200\n",
      "167/167 [==============================] - 0s 1ms/step - loss: 0.0024 - mse: 0.0024 - mae: 0.0306 - val_loss: 0.0031 - val_mse: 0.0031 - val_mae: 0.0341\n",
      "Epoch 121/200\n",
      "167/167 [==============================] - 0s 1ms/step - loss: 0.0024 - mse: 0.0024 - mae: 0.0300 - val_loss: 0.0034 - val_mse: 0.0034 - val_mae: 0.0361\n",
      "Epoch 122/200\n",
      "167/167 [==============================] - 0s 1ms/step - loss: 0.0024 - mse: 0.0024 - mae: 0.0304 - val_loss: 0.0034 - val_mse: 0.0034 - val_mae: 0.0348\n",
      "Epoch 123/200\n",
      "167/167 [==============================] - 0s 1ms/step - loss: 0.0024 - mse: 0.0024 - mae: 0.0304 - val_loss: 0.0032 - val_mse: 0.0032 - val_mae: 0.0333\n",
      "Epoch 124/200\n",
      "167/167 [==============================] - 0s 1ms/step - loss: 0.0024 - mse: 0.0024 - mae: 0.0299 - val_loss: 0.0034 - val_mse: 0.0034 - val_mae: 0.0345\n",
      "Epoch 125/200\n",
      "167/167 [==============================] - 0s 1ms/step - loss: 0.0023 - mse: 0.0023 - mae: 0.0295 - val_loss: 0.0033 - val_mse: 0.0033 - val_mae: 0.0338\n",
      "Epoch 126/200\n",
      "167/167 [==============================] - 0s 1ms/step - loss: 0.0023 - mse: 0.0023 - mae: 0.0299 - val_loss: 0.0032 - val_mse: 0.0032 - val_mae: 0.0318\n",
      "Epoch 127/200\n",
      "167/167 [==============================] - 0s 1ms/step - loss: 0.0023 - mse: 0.0023 - mae: 0.0299 - val_loss: 0.0032 - val_mse: 0.0032 - val_mae: 0.0332\n",
      "Epoch 128/200\n",
      "167/167 [==============================] - 0s 1ms/step - loss: 0.0024 - mse: 0.0024 - mae: 0.0298 - val_loss: 0.0032 - val_mse: 0.0032 - val_mae: 0.0326\n",
      "Epoch 129/200\n",
      "167/167 [==============================] - 0s 1ms/step - loss: 0.0024 - mse: 0.0024 - mae: 0.0300 - val_loss: 0.0034 - val_mse: 0.0034 - val_mae: 0.0360\n",
      "Epoch 130/200\n",
      "167/167 [==============================] - 0s 1ms/step - loss: 0.0024 - mse: 0.0024 - mae: 0.0301 - val_loss: 0.0032 - val_mse: 0.0032 - val_mae: 0.0323\n",
      "Epoch 131/200\n",
      "167/167 [==============================] - 0s 1ms/step - loss: 0.0024 - mse: 0.0024 - mae: 0.0305 - val_loss: 0.0033 - val_mse: 0.0033 - val_mae: 0.0357\n",
      "Epoch 132/200\n",
      "167/167 [==============================] - 0s 1ms/step - loss: 0.0024 - mse: 0.0024 - mae: 0.0299 - val_loss: 0.0033 - val_mse: 0.0033 - val_mae: 0.0322\n",
      "Epoch 133/200\n",
      "167/167 [==============================] - 0s 1ms/step - loss: 0.0024 - mse: 0.0024 - mae: 0.0301 - val_loss: 0.0032 - val_mse: 0.0032 - val_mae: 0.0336\n",
      "Epoch 134/200\n",
      "167/167 [==============================] - 0s 1ms/step - loss: 0.0024 - mse: 0.0024 - mae: 0.0300 - val_loss: 0.0033 - val_mse: 0.0033 - val_mae: 0.0353\n",
      "Epoch 135/200\n",
      "167/167 [==============================] - 0s 1ms/step - loss: 0.0023 - mse: 0.0023 - mae: 0.0299 - val_loss: 0.0032 - val_mse: 0.0032 - val_mae: 0.0323\n",
      "Epoch 136/200\n",
      "167/167 [==============================] - 0s 1ms/step - loss: 0.0023 - mse: 0.0023 - mae: 0.0297 - val_loss: 0.0032 - val_mse: 0.0032 - val_mae: 0.0328\n",
      "Epoch 137/200\n",
      "167/167 [==============================] - 0s 1ms/step - loss: 0.0023 - mse: 0.0023 - mae: 0.0297 - val_loss: 0.0034 - val_mse: 0.0034 - val_mae: 0.0323\n",
      "Epoch 138/200\n",
      "167/167 [==============================] - 0s 1ms/step - loss: 0.0023 - mse: 0.0023 - mae: 0.0296 - val_loss: 0.0038 - val_mse: 0.0038 - val_mae: 0.0383\n",
      "Epoch 139/200\n",
      "167/167 [==============================] - 0s 1ms/step - loss: 0.0023 - mse: 0.0023 - mae: 0.0297 - val_loss: 0.0032 - val_mse: 0.0032 - val_mae: 0.0325\n",
      "Epoch 140/200\n",
      "167/167 [==============================] - 0s 1ms/step - loss: 0.0023 - mse: 0.0023 - mae: 0.0297 - val_loss: 0.0032 - val_mse: 0.0032 - val_mae: 0.0341\n",
      "Epoch 141/200\n",
      "167/167 [==============================] - 0s 1ms/step - loss: 0.0023 - mse: 0.0023 - mae: 0.0298 - val_loss: 0.0032 - val_mse: 0.0032 - val_mae: 0.0321\n",
      "Epoch 142/200\n",
      "167/167 [==============================] - 0s 1ms/step - loss: 0.0023 - mse: 0.0023 - mae: 0.0297 - val_loss: 0.0033 - val_mse: 0.0033 - val_mae: 0.0327\n",
      "Epoch 143/200\n",
      "167/167 [==============================] - 0s 1ms/step - loss: 0.0023 - mse: 0.0023 - mae: 0.0297 - val_loss: 0.0032 - val_mse: 0.0032 - val_mae: 0.0330\n",
      "Epoch 144/200\n",
      "167/167 [==============================] - 0s 1ms/step - loss: 0.0023 - mse: 0.0023 - mae: 0.0295 - val_loss: 0.0033 - val_mse: 0.0033 - val_mae: 0.0331\n",
      "Epoch 145/200\n",
      "167/167 [==============================] - 0s 1ms/step - loss: 0.0023 - mse: 0.0023 - mae: 0.0293 - val_loss: 0.0032 - val_mse: 0.0032 - val_mae: 0.0329\n",
      "Epoch 146/200\n",
      "167/167 [==============================] - 0s 1ms/step - loss: 0.0023 - mse: 0.0023 - mae: 0.0295 - val_loss: 0.0033 - val_mse: 0.0033 - val_mae: 0.0337\n",
      "Epoch 147/200\n",
      "167/167 [==============================] - 0s 1ms/step - loss: 0.0024 - mse: 0.0024 - mae: 0.0304 - val_loss: 0.0034 - val_mse: 0.0034 - val_mae: 0.0326\n",
      "Epoch 148/200\n"
     ]
    },
    {
     "name": "stdout",
     "output_type": "stream",
     "text": [
      "167/167 [==============================] - 0s 1ms/step - loss: 0.0023 - mse: 0.0023 - mae: 0.0294 - val_loss: 0.0036 - val_mse: 0.0036 - val_mae: 0.0334\n",
      "Epoch 149/200\n",
      "167/167 [==============================] - 0s 1ms/step - loss: 0.0023 - mse: 0.0023 - mae: 0.0295 - val_loss: 0.0033 - val_mse: 0.0033 - val_mae: 0.0326\n",
      "Epoch 150/200\n",
      "167/167 [==============================] - 0s 1ms/step - loss: 0.0023 - mse: 0.0023 - mae: 0.0297 - val_loss: 0.0032 - val_mse: 0.0032 - val_mae: 0.0324\n",
      "Epoch 151/200\n",
      "167/167 [==============================] - 0s 1ms/step - loss: 0.0022 - mse: 0.0022 - mae: 0.0293 - val_loss: 0.0034 - val_mse: 0.0034 - val_mae: 0.0354\n",
      "Epoch 152/200\n",
      "167/167 [==============================] - 0s 1ms/step - loss: 0.0023 - mse: 0.0023 - mae: 0.0295 - val_loss: 0.0035 - val_mse: 0.0035 - val_mae: 0.0356\n",
      "Epoch 153/200\n",
      "167/167 [==============================] - 0s 1ms/step - loss: 0.0023 - mse: 0.0023 - mae: 0.0295 - val_loss: 0.0034 - val_mse: 0.0034 - val_mae: 0.0340\n",
      "Epoch 154/200\n",
      "167/167 [==============================] - 0s 1ms/step - loss: 0.0023 - mse: 0.0023 - mae: 0.0297 - val_loss: 0.0033 - val_mse: 0.0033 - val_mae: 0.0322\n",
      "Epoch 155/200\n",
      "167/167 [==============================] - 0s 1ms/step - loss: 0.0023 - mse: 0.0023 - mae: 0.0297 - val_loss: 0.0032 - val_mse: 0.0032 - val_mae: 0.0321\n",
      "Epoch 156/200\n",
      "167/167 [==============================] - 0s 1ms/step - loss: 0.0023 - mse: 0.0023 - mae: 0.0293 - val_loss: 0.0035 - val_mse: 0.0035 - val_mae: 0.0328\n",
      "Epoch 157/200\n",
      "167/167 [==============================] - 0s 1ms/step - loss: 0.0024 - mse: 0.0024 - mae: 0.0300 - val_loss: 0.0033 - val_mse: 0.0033 - val_mae: 0.0323\n",
      "Epoch 158/200\n",
      "167/167 [==============================] - 0s 1ms/step - loss: 0.0023 - mse: 0.0023 - mae: 0.0296 - val_loss: 0.0034 - val_mse: 0.0034 - val_mae: 0.0346\n",
      "Epoch 159/200\n",
      "167/167 [==============================] - 0s 1ms/step - loss: 0.0022 - mse: 0.0022 - mae: 0.0293 - val_loss: 0.0033 - val_mse: 0.0033 - val_mae: 0.0329\n",
      "Epoch 160/200\n",
      "167/167 [==============================] - 0s 1ms/step - loss: 0.0023 - mse: 0.0023 - mae: 0.0294 - val_loss: 0.0035 - val_mse: 0.0035 - val_mae: 0.0351\n",
      "Epoch 161/200\n",
      "167/167 [==============================] - 0s 1ms/step - loss: 0.0022 - mse: 0.0022 - mae: 0.0289 - val_loss: 0.0033 - val_mse: 0.0033 - val_mae: 0.0322\n",
      "Epoch 162/200\n",
      "167/167 [==============================] - 0s 1ms/step - loss: 0.0022 - mse: 0.0022 - mae: 0.0292 - val_loss: 0.0037 - val_mse: 0.0037 - val_mae: 0.0335\n",
      "Epoch 163/200\n",
      "167/167 [==============================] - 0s 1ms/step - loss: 0.0022 - mse: 0.0022 - mae: 0.0292 - val_loss: 0.0033 - val_mse: 0.0033 - val_mae: 0.0329\n",
      "Epoch 164/200\n",
      "167/167 [==============================] - 0s 1ms/step - loss: 0.0022 - mse: 0.0022 - mae: 0.0295 - val_loss: 0.0033 - val_mse: 0.0033 - val_mae: 0.0328\n",
      "Epoch 165/200\n",
      "167/167 [==============================] - 0s 1ms/step - loss: 0.0022 - mse: 0.0022 - mae: 0.0292 - val_loss: 0.0034 - val_mse: 0.0034 - val_mae: 0.0333\n",
      "Epoch 166/200\n",
      "167/167 [==============================] - 0s 1ms/step - loss: 0.0022 - mse: 0.0022 - mae: 0.0292 - val_loss: 0.0035 - val_mse: 0.0035 - val_mae: 0.0335\n",
      "Epoch 167/200\n",
      "167/167 [==============================] - 0s 1ms/step - loss: 0.0022 - mse: 0.0022 - mae: 0.0290 - val_loss: 0.0033 - val_mse: 0.0033 - val_mae: 0.0334\n",
      "Epoch 168/200\n",
      "167/167 [==============================] - 0s 1ms/step - loss: 0.0022 - mse: 0.0022 - mae: 0.0292 - val_loss: 0.0034 - val_mse: 0.0034 - val_mae: 0.0327\n",
      "Epoch 169/200\n",
      "167/167 [==============================] - 0s 1ms/step - loss: 0.0024 - mse: 0.0024 - mae: 0.0302 - val_loss: 0.0035 - val_mse: 0.0035 - val_mae: 0.0351\n",
      "Epoch 170/200\n",
      "167/167 [==============================] - 0s 1ms/step - loss: 0.0023 - mse: 0.0023 - mae: 0.0300 - val_loss: 0.0034 - val_mse: 0.0034 - val_mae: 0.0356\n",
      "Epoch 171/200\n",
      "167/167 [==============================] - 0s 1ms/step - loss: 0.0023 - mse: 0.0023 - mae: 0.0295 - val_loss: 0.0035 - val_mse: 0.0035 - val_mae: 0.0335\n",
      "Epoch 172/200\n",
      "167/167 [==============================] - 0s 1ms/step - loss: 0.0022 - mse: 0.0022 - mae: 0.0291 - val_loss: 0.0033 - val_mse: 0.0033 - val_mae: 0.0325\n",
      "Epoch 173/200\n",
      "167/167 [==============================] - 0s 1ms/step - loss: 0.0022 - mse: 0.0022 - mae: 0.0288 - val_loss: 0.0034 - val_mse: 0.0034 - val_mae: 0.0328\n",
      "Epoch 174/200\n",
      "167/167 [==============================] - 0s 1ms/step - loss: 0.0021 - mse: 0.0021 - mae: 0.0285 - val_loss: 0.0035 - val_mse: 0.0035 - val_mae: 0.0338\n",
      "Epoch 175/200\n",
      "167/167 [==============================] - 0s 1ms/step - loss: 0.0022 - mse: 0.0022 - mae: 0.0289 - val_loss: 0.0034 - val_mse: 0.0034 - val_mae: 0.0336\n",
      "Epoch 176/200\n",
      "167/167 [==============================] - 0s 1ms/step - loss: 0.0022 - mse: 0.0022 - mae: 0.0291 - val_loss: 0.0035 - val_mse: 0.0035 - val_mae: 0.0349\n",
      "Epoch 177/200\n",
      "167/167 [==============================] - 0s 1ms/step - loss: 0.0022 - mse: 0.0022 - mae: 0.0290 - val_loss: 0.0034 - val_mse: 0.0034 - val_mae: 0.0325\n",
      "Epoch 178/200\n",
      "167/167 [==============================] - 0s 1ms/step - loss: 0.0022 - mse: 0.0022 - mae: 0.0288 - val_loss: 0.0033 - val_mse: 0.0033 - val_mae: 0.0330\n",
      "Epoch 179/200\n",
      "167/167 [==============================] - 0s 1ms/step - loss: 0.0021 - mse: 0.0021 - mae: 0.0287 - val_loss: 0.0035 - val_mse: 0.0035 - val_mae: 0.0336\n",
      "Epoch 180/200\n",
      "167/167 [==============================] - 0s 1ms/step - loss: 0.0021 - mse: 0.0021 - mae: 0.0287 - val_loss: 0.0037 - val_mse: 0.0037 - val_mae: 0.0336\n",
      "Epoch 181/200\n",
      "167/167 [==============================] - 0s 1ms/step - loss: 0.0022 - mse: 0.0022 - mae: 0.0287 - val_loss: 0.0037 - val_mse: 0.0037 - val_mae: 0.0335\n",
      "Epoch 182/200\n",
      "167/167 [==============================] - 0s 1ms/step - loss: 0.0022 - mse: 0.0022 - mae: 0.0293 - val_loss: 0.0033 - val_mse: 0.0033 - val_mae: 0.0329\n",
      "Epoch 183/200\n",
      "167/167 [==============================] - 0s 1ms/step - loss: 0.0022 - mse: 0.0022 - mae: 0.0291 - val_loss: 0.0036 - val_mse: 0.0036 - val_mae: 0.0351\n",
      "Epoch 184/200\n",
      "167/167 [==============================] - 0s 1ms/step - loss: 0.0022 - mse: 0.0022 - mae: 0.0294 - val_loss: 0.0035 - val_mse: 0.0035 - val_mae: 0.0331\n",
      "Epoch 185/200\n",
      "167/167 [==============================] - 0s 1ms/step - loss: 0.0022 - mse: 0.0022 - mae: 0.0291 - val_loss: 0.0034 - val_mse: 0.0034 - val_mae: 0.0335\n",
      "Epoch 186/200\n",
      "167/167 [==============================] - 0s 1ms/step - loss: 0.0023 - mse: 0.0023 - mae: 0.0294 - val_loss: 0.0034 - val_mse: 0.0034 - val_mae: 0.0324\n",
      "Epoch 187/200\n",
      "167/167 [==============================] - 0s 1ms/step - loss: 0.0022 - mse: 0.0022 - mae: 0.0290 - val_loss: 0.0034 - val_mse: 0.0034 - val_mae: 0.0342\n",
      "Epoch 188/200\n",
      "167/167 [==============================] - 0s 1ms/step - loss: 0.0022 - mse: 0.0022 - mae: 0.0289 - val_loss: 0.0034 - val_mse: 0.0034 - val_mae: 0.0350\n",
      "Epoch 189/200\n",
      "167/167 [==============================] - 0s 1ms/step - loss: 0.0023 - mse: 0.0023 - mae: 0.0298 - val_loss: 0.0034 - val_mse: 0.0034 - val_mae: 0.0343\n",
      "Epoch 190/200\n",
      "167/167 [==============================] - 0s 1ms/step - loss: 0.0022 - mse: 0.0022 - mae: 0.0287 - val_loss: 0.0035 - val_mse: 0.0035 - val_mae: 0.0337\n",
      "Epoch 191/200\n",
      "167/167 [==============================] - 0s 1ms/step - loss: 0.0022 - mse: 0.0022 - mae: 0.0288 - val_loss: 0.0034 - val_mse: 0.0034 - val_mae: 0.0326\n",
      "Epoch 192/200\n",
      "167/167 [==============================] - 0s 1ms/step - loss: 0.0022 - mse: 0.0022 - mae: 0.0288 - val_loss: 0.0034 - val_mse: 0.0034 - val_mae: 0.0331\n",
      "Epoch 193/200\n",
      "167/167 [==============================] - 0s 1ms/step - loss: 0.0022 - mse: 0.0022 - mae: 0.0288 - val_loss: 0.0034 - val_mse: 0.0034 - val_mae: 0.0339\n",
      "Epoch 194/200\n",
      "167/167 [==============================] - 0s 1ms/step - loss: 0.0022 - mse: 0.0022 - mae: 0.0289 - val_loss: 0.0035 - val_mse: 0.0035 - val_mae: 0.0338\n",
      "Epoch 195/200\n",
      "167/167 [==============================] - 0s 1ms/step - loss: 0.0021 - mse: 0.0021 - mae: 0.0285 - val_loss: 0.0036 - val_mse: 0.0036 - val_mae: 0.0340\n",
      "Epoch 196/200\n",
      "167/167 [==============================] - 0s 1ms/step - loss: 0.0021 - mse: 0.0021 - mae: 0.0287 - val_loss: 0.0035 - val_mse: 0.0035 - val_mae: 0.0328\n",
      "Epoch 197/200\n"
     ]
    },
    {
     "name": "stdout",
     "output_type": "stream",
     "text": [
      "167/167 [==============================] - 0s 1ms/step - loss: 0.0021 - mse: 0.0021 - mae: 0.0286 - val_loss: 0.0035 - val_mse: 0.0035 - val_mae: 0.0329\n",
      "Epoch 198/200\n",
      "167/167 [==============================] - 0s 1ms/step - loss: 0.0021 - mse: 0.0021 - mae: 0.0285 - val_loss: 0.0034 - val_mse: 0.0034 - val_mae: 0.0327\n",
      "Epoch 199/200\n",
      "167/167 [==============================] - 0s 1ms/step - loss: 0.0021 - mse: 0.0021 - mae: 0.0285 - val_loss: 0.0036 - val_mse: 0.0036 - val_mae: 0.0342\n",
      "Epoch 200/200\n",
      "167/167 [==============================] - 0s 1ms/step - loss: 0.0022 - mse: 0.0022 - mae: 0.0290 - val_loss: 0.0037 - val_mse: 0.0037 - val_mae: 0.0369\n"
     ]
    }
   ],
   "source": [
    "# history = model.fit(train_data, train_target, epochs=200, validation_data=(test_data, test_target))\n",
    "\n",
    "history = model.fit(data_scaled, target_scaled, epochs=200, validation_split=0.2)"
   ]
  },
  {
   "cell_type": "code",
   "execution_count": 24,
   "id": "42860d87",
   "metadata": {},
   "outputs": [
    {
     "data": {
      "image/png": "[encoded data removed]",
      "text/plain": [
       "<Figure size 432x288 with 1 Axes>"
      ]
     },
     "metadata": {
      "needs_background": "light"
     },
     "output_type": "display_data"
    }
   ],
   "source": [
    "plt.plot(model.history.history['loss'], label='loss')\n",
    "plt.plot(model.history.history['val_loss'], label='val_loss')\n",
    "plt.legend()\n",
    "plt.xlabel('# epochs')\n",
    "plt.ylabel('loss')\n",
    "plt.show()"
   ]
  },
  {
   "cell_type": "code",
   "execution_count": null,
   "id": "44bedaad",
   "metadata": {},
   "outputs": [],
   "source": []
  }
 ],
 "metadata": {
  "kernelspec": {
   "display_name": "Python 3 (ipykernel)",
   "language": "python",
   "name": "python3"
  },
  "language_info": {
   "codemirror_mode": {
    "name": "ipython",
    "version": 3
   },
   "file_extension": ".py",
   "mimetype": "text/x-python",
   "name": "python",
   "nbconvert_exporter": "python",
   "pygments_lexer": "ipython3",
   "version": "3.9.7"
  }
 },
 "nbformat": 4,
 "nbformat_minor": 5
}
